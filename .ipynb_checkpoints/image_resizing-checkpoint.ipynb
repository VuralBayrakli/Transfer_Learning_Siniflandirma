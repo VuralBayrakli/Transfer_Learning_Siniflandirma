{
 "cells": [
  {
   "cell_type": "code",
   "execution_count": null,
   "id": "51e075d6",
   "metadata": {},
   "outputs": [],
   "source": [
    "import os\n",
    "import cv2\n",
    "import numpy as np\n",
    "\n",
    "# Görüntülerin bulunduğu kök klasörü belirtin\n",
    "root_folder = 'TRAIN'\n",
    "\n",
    "# Yeni boyutlar\n",
    "target_size = (224, 224)\n",
    "\n",
    "# Kök klasördeki fire ve non_fire klasörlerini işleme alın\n",
    "for category in ['fire', 'non_fire']:\n",
    "    category_folder = os.path.join(root_folder, category)\n",
    "    \n",
    "    # Her kategori klasöründeki görsel dosyalarını işleme alın\n",
    "    for filename in os.listdir(category_folder):\n",
    "        if filename.endswith('.jpg'):\n",
    "            filepath = os.path.join(category_folder, filename)\n",
    "            \n",
    "            # Görüntüyü okuyun\n",
    "            image = cv2.imread(filepath)\n",
    "            \n",
    "            # Görüntüyü 64x64 boyutuna yeniden boyutlandırın\n",
    "            resized_image = cv2.resize(image, (64, 64))\n",
    "            \n",
    "            # Görüntüyü 224x224 boyutuna yeniden boyutlandırın\n",
    "            final_image = cv2.resize(resized_image, target_size)\n",
    "            \n",
    "            # Yeni görüntüyü kaydedin\n",
    "            new_filepath = os.path.join(\"TRAIN_NEW\", category_folder, 'resized_' + filename)\n",
    "            cv2.imwrite(new_filepath, final_image)\n",
    "\n",
    "print(\"İşlem tamamlandı.\")\n"
   ]
  }
 ],
 "metadata": {
  "kernelspec": {
   "display_name": "Python 3 (ipykernel)",
   "language": "python",
   "name": "python3"
  },
  "language_info": {
   "codemirror_mode": {
    "name": "ipython",
    "version": 3
   },
   "file_extension": ".py",
   "mimetype": "text/x-python",
   "name": "python",
   "nbconvert_exporter": "python",
   "pygments_lexer": "ipython3",
   "version": "3.10.9"
  }
 },
 "nbformat": 4,
 "nbformat_minor": 5
}
