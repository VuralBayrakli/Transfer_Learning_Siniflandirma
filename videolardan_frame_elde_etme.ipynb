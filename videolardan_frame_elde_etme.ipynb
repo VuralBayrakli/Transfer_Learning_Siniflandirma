{
 "cells": [
  {
   "cell_type": "code",
   "execution_count": 6,
   "id": "8a70f013",
   "metadata": {},
   "outputs": [],
   "source": [
    "import cv2\n",
    "import os\n",
    "\n",
    "#videos = os.listdir(\"videos_test/\")\n",
    "\n",
    "output_folder = \"test_exmp/\"\n",
    "\n",
    "def capture_frames(video_path, output_folder, frame_interval):\n",
    "    video_capture = cv2.VideoCapture(video_path)\n",
    "    current_frame = 0\n",
    "    a = video_path.split(\".\")[0]\n",
    "    while True:\n",
    "        ret, frame = video_capture.read()\n",
    "\n",
    "        if not ret:\n",
    "            break\n",
    "\n",
    "        if current_frame % frame_interval == 0:\n",
    "            output_path = f\"{output_folder}/frame_{a}_{current_frame}.jpg\"\n",
    "            cv2.imwrite(output_path, frame)\n",
    "\n",
    "        current_frame += 1\n",
    "\n",
    "    video_capture.release()\n",
    "    cv2.destroyAllWindows()\n",
    "\n",
    "\n",
    "# Görüntülerin kaydedileceği klasör\n",
    "\n",
    "# Her kaç karede bir görüntü alınacağı\n",
    "frame_interval = 120\n",
    "\n",
    "\n",
    "\n",
    "capture_frames(\"vid7.mp4\", output_folder, frame_interval)"
   ]
  },
  {
   "cell_type": "code",
   "execution_count": 5,
   "id": "5051d6da",
   "metadata": {},
   "outputs": [
    {
     "data": {
      "text/plain": [
       "'vid0'"
      ]
     },
     "execution_count": 5,
     "metadata": {},
     "output_type": "execute_result"
    }
   ],
   "source": [
    "import os\n",
    "videos = os.listdir(\"videos\") \n",
    "path = \"videos\\\\\"+videos[0]\n",
    "path.split(\"\\\\\")[1].split(\".\")[0]"
   ]
  },
  {
   "cell_type": "code",
   "execution_count": null,
   "id": "3e69f9e1",
   "metadata": {},
   "outputs": [],
   "source": []
  }
 ],
 "metadata": {
  "kernelspec": {
   "display_name": "Python 3 (ipykernel)",
   "language": "python",
   "name": "python3"
  },
  "language_info": {
   "codemirror_mode": {
    "name": "ipython",
    "version": 3
   },
   "file_extension": ".py",
   "mimetype": "text/x-python",
   "name": "python",
   "nbconvert_exporter": "python",
   "pygments_lexer": "ipython3",
   "version": "3.10.9"
  }
 },
 "nbformat": 4,
 "nbformat_minor": 5
}
